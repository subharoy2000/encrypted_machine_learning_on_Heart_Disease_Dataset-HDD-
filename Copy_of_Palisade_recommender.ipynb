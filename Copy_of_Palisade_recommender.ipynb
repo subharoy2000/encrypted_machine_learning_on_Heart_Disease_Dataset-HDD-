{
  "nbformat": 4,
  "nbformat_minor": 0,
  "metadata": {
    "colab": {
      "name": "Copy of Palisade_recommender.ipynb",
      "provenance": [],
      "collapsed_sections": [],
      "include_colab_link": true
    },
    "kernelspec": {
      "name": "python3",
      "display_name": "Python 3"
    },
    "language_info": {
      "name": "python"
    }
  },
  "cells": [
    {
      "cell_type": "markdown",
      "metadata": {
        "id": "view-in-github",
        "colab_type": "text"
      },
      "source": [
        "<a href=\"https://colab.research.google.com/github/subharoy2000/encrypted_machine_learning_on_Heart_Disease_Dataset-HDD-/blob/main/Copy_of_Palisade_recommender.ipynb\" target=\"_parent\"><img src=\"https://colab.research.google.com/assets/colab-badge.svg\" alt=\"Open In Colab\"/></a>"
      ]
    },
    {
      "cell_type": "markdown",
      "metadata": {
        "id": "5WXajS9CLzsl"
      },
      "source": [
        "Copyright (C) 2021 Textualization Software Ltd. Distributed under the terms of the [Apache Software License 2.0](http://www.apache.org/licenses/LICENSE-2.0).\n",
        "---\n",
        "\n",
        "<a href=\"https://colab.research.google.com/github/subharoy2000/encrypted_machine_learning_on_Heart_Disease_Dataset-HDD-/blob/main/notebooks/Palisade_recommender.ipynb\" target=\"_parent\"><img src=\"https://colab.research.google.com/assets/colab-badge.svg\" alt=\"Open In Colab\"/></a>\n",
        "\n"
      ]
    },
    {
      "cell_type": "code",
      "metadata": {
        "colab": {
          "base_uri": "https://localhost:8080/"
        },
        "id": "YxREGIVGUzxg",
        "outputId": "1cea1efc-e296-4ddf-b9cd-f15793aef68f"
      },
      "source": [
        "!rm -rf encrypted_machine_learning_on_Heart_Disease_Dataset-HDD-\n",
        "!git clone https://github.com/subharoy2000/encrypted_machine_learning_on_Heart_Disease_Dataset-HDD-"
      ],
      "execution_count": null,
      "outputs": [
        {
          "output_type": "stream",
          "name": "stdout",
          "text": [
            "Cloning into 'encrypted_machine_learning_on_Heart_Disease_Dataset-HDD-'...\n",
            "remote: Enumerating objects: 177, done.\u001b[K\n",
            "remote: Counting objects:   1% (1/88)\u001b[K\rremote: Counting objects:   2% (2/88)\u001b[K\rremote: Counting objects:   3% (3/88)\u001b[K\rremote: Counting objects:   4% (4/88)\u001b[K\rremote: Counting objects:   5% (5/88)\u001b[K\rremote: Counting objects:   6% (6/88)\u001b[K\rremote: Counting objects:   7% (7/88)\u001b[K\rremote: Counting objects:   9% (8/88)\u001b[K\rremote: Counting objects:  10% (9/88)\u001b[K\rremote: Counting objects:  11% (10/88)\u001b[K\rremote: Counting objects:  12% (11/88)\u001b[K\rremote: Counting objects:  13% (12/88)\u001b[K\rremote: Counting objects:  14% (13/88)\u001b[K\rremote: Counting objects:  15% (14/88)\u001b[K\rremote: Counting objects:  17% (15/88)\u001b[K\rremote: Counting objects:  18% (16/88)\u001b[K\rremote: Counting objects:  19% (17/88)\u001b[K\rremote: Counting objects:  20% (18/88)\u001b[K\rremote: Counting objects:  21% (19/88)\u001b[K\rremote: Counting objects:  22% (20/88)\u001b[K\rremote: Counting objects:  23% (21/88)\u001b[K\rremote: Counting objects:  25% (22/88)\u001b[K\rremote: Counting objects:  26% (23/88)\u001b[K\rremote: Counting objects:  27% (24/88)\u001b[K\rremote: Counting objects:  28% (25/88)\u001b[K\rremote: Counting objects:  29% (26/88)\u001b[K\rremote: Counting objects:  30% (27/88)\u001b[K\rremote: Counting objects:  31% (28/88)\u001b[K\rremote: Counting objects:  32% (29/88)\u001b[K\rremote: Counting objects:  34% (30/88)\u001b[K\rremote: Counting objects:  35% (31/88)\u001b[K\rremote: Counting objects:  36% (32/88)\u001b[K\rremote: Counting objects:  37% (33/88)\u001b[K\rremote: Counting objects:  38% (34/88)\u001b[K\rremote: Counting objects:  39% (35/88)\u001b[K\rremote: Counting objects:  40% (36/88)\u001b[K\rremote: Counting objects:  42% (37/88)\u001b[K\rremote: Counting objects:  43% (38/88)\u001b[K\rremote: Counting objects:  44% (39/88)\u001b[K\rremote: Counting objects:  45% (40/88)\u001b[K\rremote: Counting objects:  46% (41/88)\u001b[K\rremote: Counting objects:  47% (42/88)\u001b[K\rremote: Counting objects:  48% (43/88)\u001b[K\rremote: Counting objects:  50% (44/88)\u001b[K\rremote: Counting objects:  51% (45/88)\u001b[K\rremote: Counting objects:  52% (46/88)\u001b[K\rremote: Counting objects:  53% (47/88)\u001b[K\rremote: Counting objects:  54% (48/88)\u001b[K\rremote: Counting objects:  55% (49/88)\u001b[K\rremote: Counting objects:  56% (50/88)\u001b[K\rremote: Counting objects:  57% (51/88)\u001b[K\rremote: Counting objects:  59% (52/88)\u001b[K\rremote: Counting objects:  60% (53/88)\u001b[K\rremote: Counting objects:  61% (54/88)\u001b[K\rremote: Counting objects:  62% (55/88)\u001b[K\rremote: Counting objects:  63% (56/88)\u001b[K\rremote: Counting objects:  64% (57/88)\u001b[K\rremote: Counting objects:  65% (58/88)\u001b[K\rremote: Counting objects:  67% (59/88)\u001b[K\rremote: Counting objects:  68% (60/88)\u001b[K\rremote: Counting objects:  69% (61/88)\u001b[K\rremote: Counting objects:  70% (62/88)\u001b[K\rremote: Counting objects:  71% (63/88)\u001b[K\rremote: Counting objects:  72% (64/88)\u001b[K\rremote: Counting objects:  73% (65/88)\u001b[K\rremote: Counting objects:  75% (66/88)\u001b[K\rremote: Counting objects:  76% (67/88)\u001b[K\rremote: Counting objects:  77% (68/88)\u001b[K\rremote: Counting objects:  78% (69/88)\u001b[K\rremote: Counting objects:  79% (70/88)\u001b[K\rremote: Counting objects:  80% (71/88)\u001b[K\rremote: Counting objects:  81% (72/88)\u001b[K\rremote: Counting objects:  82% (73/88)\u001b[K\rremote: Counting objects:  84% (74/88)\u001b[K\rremote: Counting objects:  85% (75/88)\u001b[K\rremote: Counting objects:  86% (76/88)\u001b[K\rremote: Counting objects:  87% (77/88)\u001b[K\rremote: Counting objects:  88% (78/88)\u001b[K\rremote: Counting objects:  89% (79/88)\u001b[K\rremote: Counting objects:  90% (80/88)\u001b[K\rremote: Counting objects:  92% (81/88)\u001b[K\rremote: Counting objects:  93% (82/88)\u001b[K\rremote: Counting objects:  94% (83/88)\u001b[K\rremote: Counting objects:  95% (84/88)\u001b[K\rremote: Counting objects:  96% (85/88)\u001b[K\rremote: Counting objects:  97% (86/88)\u001b[K\rremote: Counting objects:  98% (87/88)\u001b[K\rremote: Counting objects: 100% (88/88)\u001b[K\rremote: Counting objects: 100% (88/88), done.\u001b[K\n",
            "remote: Compressing objects: 100% (51/51), done.\u001b[K\n",
            "remote: Total 177 (delta 53), reused 57 (delta 33), pack-reused 89\u001b[K\n",
            "Receiving objects: 100% (177/177), 6.36 MiB | 20.46 MiB/s, done.\n",
            "Resolving deltas: 100% (91/91), done.\n"
          ]
        }
      ]
    },
    {
      "cell_type": "code",
      "metadata": {
        "id": "tE3paQGhVCkW"
      },
      "source": [
        "!cp /content/encrypted_machine_learning_on_Heart_Disease_Dataset-HDD-/dependencies/palisade-install.tar.gz /content; cd /content; tar -xzf palisade-install.tar.gz\n",
        "!cd /content/encrypted_machine_learning_on_Heart_Disease_Dataset-HDD-/data; tar -xzf synthetic-invoices.tar.gz"
      ],
      "execution_count": null,
      "outputs": []
    },
    {
      "cell_type": "code",
      "metadata": {
        "id": "UT8SU6NYZ8Z9"
      },
      "source": [
        "!mkdir -p /content/encrypted_machine_learning_on_Heart_Disease_Dataset-HDD-/build/lib\n",
        "!cd /content/encrypted_machine_learning_on_Heart_Disease_Dataset-HDD-; c++ -fopenmp -fPIC -std=gnu++11 `python3.7-config --cflags` `python3.7-config --includes` -I/content/palisade-install/include/palisade{,/core,/pke,/third-party/inclue} -o build/lib/ckks_wrapper.o -c src/ckks_wrapper.cpp \n",
        "!cd /content/encrypted_machine_learning_on_Heart_Disease_Dataset-HDD-; c++ -fopenmp -fPIC -std=gnu++11 `python3.7-config --cflags` `python3.7-config --includes` -I/content/palisade-install/include/palisade{,/core,/pke,/third-party/inclue} -o build/lib/pycrypto.o -c src/pycrypto.cpp \n",
        "!cd /content/encrypted_machine_learning_on_Heart_Disease_Dataset-HDD-; /usr/bin/c++ -fPIC  -Wall -Werror -O3  `python3.7-config --ldflags` -DPALISADE_VERSION=1.11.4 -Wno-parentheses -fopenmp -shared -Wl,-soname,pycrypto.so.1 -lpython3.7m -o build/lib/pycrypto.so.1 build/lib/ckks_wrapper.o build/lib/pycrypto.o   -L/content/palisade-install/lib  -Wl,-rpath,/content/palisade-install/lib:  /content/palisade-install/lib/libPALISADEcore.so.1 /content/palisade-install/lib/libPALISADEbinfhe.so.1 /content/palisade-install/lib/libPALISADEpke.so.1  /usr/lib/x86_64-linux-gnu/libpython3.7m.so /usr/lib/x86_64-linux-gnu/libboost_python3-py36.so \n",
        "!cd /content/encrypted_machine_learning_on_Heart_Disease_Dataset-HDD-/build/lib; ln -s pycrypto.so.1 pycrypto.so"
      ],
      "execution_count": null,
      "outputs": []
    },
    {
      "cell_type": "code",
      "source": [
        "import sys\n",
        "sys.path.append('/content/encrypted_machine_learning_on_Heart_Disease_Dataset-HDD-/build/lib')\n",
        "\n",
        "import pycrypto"
      ],
      "metadata": {
        "id": "8ZdIgCsyII8j"
      },
      "execution_count": null,
      "outputs": []
    },
    {
      "cell_type": "code",
      "source": [
        "import os\n",
        "import os.path\n",
        "import random\n",
        "import math\n",
        "\n",
        "import xml.etree.ElementTree as ET\n",
        "\n",
        "import numpy as np\n",
        "import timeit"
      ],
      "metadata": {
        "id": "FVD0vP-nIkna"
      },
      "execution_count": null,
      "outputs": []
    },
    {
      "cell_type": "code",
      "source": [
        "import xml.etree.ElementTree as ET\n",
        "path = '/content/encrypted_machine_learning_on_Heart_Disease_Dataset-HDD-/data_new/invoices_new'\n",
        "files = os.listdir(path)\n",
        "print(len(files))"
      ],
      "metadata": {
        "colab": {
          "base_uri": "https://localhost:8080/"
        },
        "id": "fYR5fV7-zRnI",
        "outputId": "c228b41f-6c4f-4047-e426-9533d8e7cc4b"
      },
      "execution_count": null,
      "outputs": [
        {
          "output_type": "stream",
          "name": "stdout",
          "text": [
            "34\n"
          ]
        }
      ]
    },
    {
      "cell_type": "code",
      "source": [
        "# from sklearn import tree\n",
        "# root = ET.getroot()\n",
        "# print(root.tag, root.attrib)\n",
        "# for child in root:\n",
        "#   print(child.tag, child.attrib)"
      ],
      "metadata": {
        "id": "FkmFvKy2zumz"
      },
      "execution_count": null,
      "outputs": []
    },
    {
      "cell_type": "code",
      "source": [
        "# print(ET.tostring(root, encoding='utf16').decode('utf16'))"
      ],
      "metadata": {
        "id": "2Rr-IdHPzxpp"
      },
      "execution_count": null,
      "outputs": []
    },
    {
      "cell_type": "code",
      "source": [
        "# print(ET.tostring(root, encoding='utf8').decode('utf8'))"
      ],
      "metadata": {
        "id": "TGDSsNx9zxiq"
      },
      "execution_count": null,
      "outputs": []
    },
    {
      "cell_type": "code",
      "source": [
        "DATA_DIR='/content/encrypted_machine_learning_on_Heart_Disease_Dataset/data_new/invoices_new'\n",
        "\n",
        "matrix           = list() # rows = [ rfc, pref dict id->count ]\n",
        "Enc_Packets          = dict() # rfc -> [ row in matrix, name ]\n",
        "clients_by_row   = list() # row -> [ rfc, name ]\n",
        "Systems         = dict() # id -> [ col in matrix, name ]\n",
        "products_by_col  = list() # col -> [ id, name ]\n",
        "\n",
        "for invoice in os.listdir(DATA_DIR):\n",
        "    if '.xml' not in invoice:\n",
        "        continue\n",
        "    tree = ET.parse(os.path.join(DATA_DIR, invoice))\n",
        "    root = tree.getroot()\n",
        "    texture_se = root[0]\n",
        "    _id=root[1]\n",
        "    if texture_se not in Enc_Packets:\n",
        "        # new row\n",
        "        # FOR PRESENTATION\n",
        "        # if len(matrix) > 400:\n",
        "        #  break\n",
        "        Enc_Packets[texture_se] = [ len(matrix), root[1] ]  #.attrib['radius_mean']\n",
        "        matrix.append( [ texture_se, dict() ] )\n",
        "        clients_by_row.append( [ (texture_se), root[2] ] )  #.attrib['radius_mean']\n",
        "    row = Enc_Packets[texture_se][0]\n",
        "\n",
        "    for concept in root[2]:\n",
        "        _id = concept.attrib['radius_mean']\n",
        "        name = concept.attrib['symmetry_mean']\n",
        "\n",
        "        if _id not in Systems:\n",
        "            # new col\n",
        "            Systems[_id] = [ len(Systems), root[1] ]\n",
        "            products_by_col.append( [ _id, root[0] ])\n",
        "        col = Systems[_id][0]\n",
        "        matrix[row][1][col] = matrix[row][1].get(col, 0) + 1\n",
        "\n",
        "print(\"Loaded \", len(Enc_Packets), \" Encrypted Packets \")"
      ],
      "metadata": {
        "colab": {
          "base_uri": "https://localhost:8080/",
          "height": 235
        },
        "id": "0ll5r1iMIosi",
        "outputId": "14d8d798-6224-4fd9-b985-c27bfd0fa4dd"
      },
      "execution_count": null,
      "outputs": [
        {
          "output_type": "error",
          "ename": "FileNotFoundError",
          "evalue": "ignored",
          "traceback": [
            "\u001b[0;31m---------------------------------------------------------------------------\u001b[0m",
            "\u001b[0;31mFileNotFoundError\u001b[0m                         Traceback (most recent call last)",
            "\u001b[0;32m<ipython-input-13-2de07b83ca74>\u001b[0m in \u001b[0;36m<module>\u001b[0;34m\u001b[0m\n\u001b[1;32m      7\u001b[0m \u001b[0mproducts_by_col\u001b[0m  \u001b[0;34m=\u001b[0m \u001b[0mlist\u001b[0m\u001b[0;34m(\u001b[0m\u001b[0;34m)\u001b[0m \u001b[0;31m# col -> [ id, name ]\u001b[0m\u001b[0;34m\u001b[0m\u001b[0;34m\u001b[0m\u001b[0m\n\u001b[1;32m      8\u001b[0m \u001b[0;34m\u001b[0m\u001b[0m\n\u001b[0;32m----> 9\u001b[0;31m \u001b[0;32mfor\u001b[0m \u001b[0minvoice\u001b[0m \u001b[0;32min\u001b[0m \u001b[0mos\u001b[0m\u001b[0;34m.\u001b[0m\u001b[0mlistdir\u001b[0m\u001b[0;34m(\u001b[0m\u001b[0mDATA_DIR\u001b[0m\u001b[0;34m)\u001b[0m\u001b[0;34m:\u001b[0m\u001b[0;34m\u001b[0m\u001b[0;34m\u001b[0m\u001b[0m\n\u001b[0m\u001b[1;32m     10\u001b[0m     \u001b[0;32mif\u001b[0m \u001b[0;34m'.xml'\u001b[0m \u001b[0;32mnot\u001b[0m \u001b[0;32min\u001b[0m \u001b[0minvoice\u001b[0m\u001b[0;34m:\u001b[0m\u001b[0;34m\u001b[0m\u001b[0;34m\u001b[0m\u001b[0m\n\u001b[1;32m     11\u001b[0m         \u001b[0;32mcontinue\u001b[0m\u001b[0;34m\u001b[0m\u001b[0;34m\u001b[0m\u001b[0m\n",
            "\u001b[0;31mFileNotFoundError\u001b[0m: [Errno 2] No such file or directory: '/content/encrypted_machine_learning_publicly_testing/data_new/invoices_new'"
          ]
        }
      ]
    },
    {
      "cell_type": "code",
      "source": [
        "import csv\n",
        "m = np.zeros((len(Enc_Packets), len(Systems)))\n",
        "\n",
        "for r in range(len(matrix)):\n",
        "    for c, v in matrix[r][1].items():\n",
        "        m[r][c] = v\n",
        "\n",
        "random.seed(21656456)\n",
        "\n",
        "chosen = random.choice(list(Enc_Packets.keys()))\n",
        "chosen_row = Enc_Packets[chosen][0]\n",
        "#chosen = list(clients.keys())[67]\n",
        "print(\"Recommendations for\", chosen, Enc_Packets[chosen][1])\n",
        "\n",
        "products_for_client = list(matrix[Enc_Packets[chosen][0]][1].items())\n",
        "random.shuffle(products_for_client)\n",
        "print(\"Sample from\", len(products_for_client),\"Decryption halted\")\n",
        "for pair in products_for_client[:20]:\n",
        "    print(\"\\t\", products_by_col[pair[0]][1], 'Decrypted', pair[1], 'times')\n",
        "\n",
        "# similarity to each client using raw inner product as we cannot take sqrt\n",
        "\n",
        "client_simil = np.ndarray((len(Enc_Packets),1))\n",
        "\n",
        "minus_row = -1 * m[chosen_row]\n",
        "\n",
        "for idx in range(len(Enc_Packets)):\n",
        "    #client_simil[idx] = math.sqrt(np.dot(m[idx], m[chosen_row]))\n",
        "    diff = m[idx] + minus_row\n",
        "    client_simil[idx] = np.sum(diff*diff)\n",
        "\n",
        "print(\"Top De-similarities:\")\n",
        "print(client_simil[:10])\n",
        "\n",
        "recos = np.zeros((len(Systems),))\n",
        "\n",
        "for idx in range(len(Enc_Packets)):\n",
        "    weight = client_simil[idx]\n",
        "    row = m[idx][:]\n",
        "    recos = recos + row * weight\n",
        "    #if idx % 100 == 0:\n",
        "    #  print(\"{} {:,} {:,} {:,}\".format(idx, recos[0], recos[idx], recos[8200]))\n",
        "\n",
        "recos_indexed = sorted(list(map(lambda p: [ p[1], p[0] ], enumerate(recos))))\n",
        "\n",
        "printed = 0\n",
        "for score, col in reversed(recos_indexed):\n",
        "    if m[chosen_row][col] > 0:\n",
        "        continue\n",
        "    print(\"\\t({}) {} score={:,}\".format(col, products_by_col[col][1], score))\n",
        "    printed += 1\n",
        "    if printed > 10:\n",
        "        break\n",
        "old_recos = recos\n",
        "old_recos_indexed = recos_indexed"
      ],
      "metadata": {
        "colab": {
          "base_uri": "https://localhost:8080/"
        },
        "id": "oEDeTAyEIsYi",
        "outputId": "5724d369-ab14-483f-9750-6e9300cc2686"
      },
      "execution_count": null,
      "outputs": [
        {
          "output_type": "stream",
          "name": "stdout",
          "text": [
            "Recommendations for <Element 'row' at 0x7fbad7125710> <Element 'row' at 0x7fbad7125350>\n",
            "Sample from 0 Decryption halted\n",
            "Top De-similarities:\n",
            "[[0.]\n",
            " [0.]\n",
            " [0.]\n",
            " [0.]\n",
            " [0.]\n",
            " [0.]\n",
            " [0.]\n",
            " [0.]\n",
            " [0.]\n",
            " [0.]]\n"
          ]
        }
      ]
    },
    {
      "cell_type": "code",
      "source": [
        "def next_power_of_2(x):\n",
        "    return 1 if x == 0 else 2**(x - 1).bit_length()\n",
        "\n",
        "# CKKS related parameters\n",
        "# min_depth=1\n",
        "max_depth=4\n",
        "scale_factor=30\n",
        "batch_size=next_power_of_2(max(len(Systems), len(Enc_Packets)) // 2 + 2)\n",
        "\n",
        "print(\"batch size:\", batch_size)\n",
        "\n",
        "print(\"Initializing ckks wrapper\")\n",
        "crypto=pycrypto.CKKSwrapper()\n",
        "print(\"Initialized wrapper\")\n",
        "\n",
        "print(\"Generating keys\")\n",
        "start_time = timeit.default_timer()\n",
        "crypto.KeyGen(max_depth, scale_factor, batch_size)\n",
        "print(\"Keys generated in\", timeit.default_timer() - start_time)\n",
        "\n",
        "print(\"Generating key Batches\")\n",
        "start_time = timeit.default_timer()\n",
        "crypto.KeyGen(max_depth, scale_factor, batch_size)\n",
        "print(\"Keys generated in\", timeit.default_timer() - start_time)\n",
        "\n",
        "print(\"Encrypting\")\n",
        "start_time = timeit.default_timer()\n",
        "m = list()\n",
        "\n",
        "for r in range(len(matrix)):\n",
        "    row = [ 0.0 for _ in range(len(Systems)) ]\n",
        "    for c, v in matrix[r][1].items():\n",
        "        row[c] =  v * 1.0\n",
        "    m.append( [ crypto.Encrypt( row[:batch_size] ), crypto.Encrypt( row[batch_size:] ) ] )\n",
        "\n",
        "print(\"Encrypted in\", timeit.default_timer() - start_time)\n",
        "\n",
        "random.seed(210826)\n",
        "\n",
        "# use chosen from before\n",
        "#chosen = random.choice(list(clients.keys()))\n",
        "#chosen_row = clients[chosen][0]\n",
        "\n",
        "# similarity to each client using raw inner product as we cannot take sqrt\n",
        "\n",
        "print(\"Negating row\")\n",
        "start_time = timeit.default_timer()\n",
        "minus_row = [ crypto.EvalMultConst(m[chosen_row][0], [ -1.0 for _ in range(batch_size) ]),\n",
        "              crypto.EvalMultConst(m[chosen_row][1], [ -1.0 for _ in range(len(Systems) - batch_size) ]) ]\n",
        "print(\"Minus row in\", timeit.default_timer() - start_time)\n",
        "\n",
        "print(\"Asserting row\")\n",
        "start_time = timeit.default_timer()\n",
        "minus_row = [ crypto.EvalMultConst(m[chosen_row][0], [ -1.0 for _ in range(batch_size) ]),\n",
        "              crypto.EvalMultConst(m[chosen_row][1], [ -1.0 for _ in range(len(Systems) - batch_size) ]) ]\n",
        "print(\"Plus row in\", timeit.default_timer() + start_time)"
      ],
      "metadata": {
        "colab": {
          "base_uri": "https://localhost:8080/"
        },
        "id": "vkeUQiIiIv9K",
        "outputId": "077b4895-3328-45d4-80a0-f974b0523af2"
      },
      "execution_count": null,
      "outputs": [
        {
          "output_type": "stream",
          "name": "stdout",
          "text": [
            "batch size: 32\n",
            "Initializing ckks wrapper\n",
            "Initialized wrapper\n",
            "Generating keys\n",
            "Keys generated in 1.1603132329999823\n",
            "Generating key Batches\n",
            "Keys generated in 1.1246105510000177\n",
            "Encrypting\n",
            "Encrypted in 2.172726938000011\n",
            "Negating row\n",
            "Minus row in 0.021455836000001227\n",
            "Asserting row\n",
            "Plus row in 319.214405743\n"
          ]
        }
      ]
    },
    {
      "cell_type": "code",
      "source": [],
      "metadata": {
        "id": "s0A2BS6KTPpK"
      },
      "execution_count": null,
      "outputs": []
    }
  ]
}