{
  "nbformat": 4,
  "nbformat_minor": 0,
  "metadata": {
    "colab": {
      "name": "Copy of Palisade_recommender.ipynb",
      "provenance": [],
      "collapsed_sections": []
    },
    "kernelspec": {
      "name": "python3",
      "display_name": "Python 3"
    },
    "language_info": {
      "name": "python"
    }
  },
  "cells": [
    {
      "cell_type": "markdown",
      "metadata": {
        "id": "5WXajS9CLzsl"
      },
      "source": [
        "Copyright (C) 2021 Textualization Software Ltd. Distributed under the terms of the [Apache Software License 2.0](http://www.apache.org/licenses/LICENSE-2.0).\n",
        "---\n",
        "\n",
        "<a href=\"https://colab.research.google.com/github/subharoy2000/encrypted_machine_learning_on_Heart_Disease_Dataset-HDD-/blob/main/notebooks/Palisade_recommender.ipynb\" target=\"_parent\"><img src=\"https://colab.research.google.com/assets/colab-badge.svg\" alt=\"Open In Colab\"/></a>\n",
        "\n"
      ]
    },
    {
      "cell_type": "code",
      "metadata": {
        "colab": {
          "base_uri": "https://localhost:8080/"
        },
        "id": "YxREGIVGUzxg",
        "outputId": "fb2554ab-d3cb-4cca-d178-c76c23a8449a"
      },
      "source": [
        "!rm -rf encrypted_machine_learning_on_Heart_Disease_Dataset-HDD-\n",
        "!git clone https://github.com/subharoy2000/encrypted_machine_learning_on_Heart_Disease_Dataset-HDD-"
      ],
      "execution_count": 51,
      "outputs": [
        {
          "output_type": "stream",
          "name": "stdout",
          "text": [
            "Cloning into 'encrypted_machine_learning_on_Heart_Disease_Dataset-HDD-'...\n",
            "remote: Enumerating objects: 187, done.\u001b[K\n",
            "remote: Counting objects: 100% (98/98), done.\u001b[K\n",
            "remote: Compressing objects: 100% (61/61), done.\u001b[K\n",
            "remote: Total 187 (delta 59), reused 57 (delta 33), pack-reused 89\u001b[K\n",
            "Receiving objects: 100% (187/187), 6.36 MiB | 28.31 MiB/s, done.\n",
            "Resolving deltas: 100% (97/97), done.\n"
          ]
        }
      ]
    },
    {
      "cell_type": "code",
      "metadata": {
        "id": "tE3paQGhVCkW"
      },
      "source": [
        "!cp /content/encrypted_machine_learning_on_Heart_Disease_Dataset-HDD-/dependencies/palisade-install.tar.gz /content; cd /content; tar -xzf palisade-install.tar.gz\n",
        "!cd /content/encrypted_machine_learning_on_Heart_Disease_Dataset-HDD-/data; tar -xzf synthetic-invoices.tar.gz"
      ],
      "execution_count": 52,
      "outputs": []
    },
    {
      "cell_type": "code",
      "metadata": {
        "id": "UT8SU6NYZ8Z9"
      },
      "source": [
        "!mkdir -p /content/encrypted_machine_learning_on_Heart_Disease_Dataset-HDD-/build/lib\n",
        "!cd /content/encrypted_machine_learning_on_Heart_Disease_Dataset-HDD-; c++ -fopenmp -fPIC -std=gnu++11 `python3.7-config --cflags` `python3.7-config --includes` -I/content/palisade-install/include/palisade{,/core,/pke,/third-party/inclue} -o build/lib/ckks_wrapper.o -c src/ckks_wrapper.cpp \n",
        "!cd /content/encrypted_machine_learning_on_Heart_Disease_Dataset-HDD-; c++ -fopenmp -fPIC -std=gnu++11 `python3.7-config --cflags` `python3.7-config --includes` -I/content/palisade-install/include/palisade{,/core,/pke,/third-party/inclue} -o build/lib/pycrypto.o -c src/pycrypto.cpp \n",
        "!cd /content/encrypted_machine_learning_on_Heart_Disease_Dataset-HDD-; /usr/bin/c++ -fPIC  -Wall -Werror -O3  `python3.7-config --ldflags` -DPALISADE_VERSION=1.11.4 -Wno-parentheses -fopenmp -shared -Wl,-soname,pycrypto.so.1 -lpython3.7m -o build/lib/pycrypto.so.1 build/lib/ckks_wrapper.o build/lib/pycrypto.o   -L/content/palisade-install/lib  -Wl,-rpath,/content/palisade-install/lib:  /content/palisade-install/lib/libPALISADEcore.so.1 /content/palisade-install/lib/libPALISADEbinfhe.so.1 /content/palisade-install/lib/libPALISADEpke.so.1  /usr/lib/x86_64-linux-gnu/libpython3.7m.so /usr/lib/x86_64-linux-gnu/libboost_python3-py36.so \n",
        "!cd /content/encrypted_machine_learning_on_Heart_Disease_Dataset-HDD-/build/lib; ln -s pycrypto.so.1 pycrypto.so"
      ],
      "execution_count": 53,
      "outputs": []
    },
    {
      "cell_type": "code",
      "source": [
        "import sys\n",
        "sys.path.append('/content/encrypted_machine_learning_on_Heart_Disease_Dataset-HDD-/build/lib')\n",
        "\n",
        "import pycrypto"
      ],
      "metadata": {
        "id": "8ZdIgCsyII8j"
      },
      "execution_count": 54,
      "outputs": []
    },
    {
      "cell_type": "code",
      "source": [
        "import os\n",
        "import os.path\n",
        "import random\n",
        "import math\n",
        "\n",
        "import xml.etree.ElementTree as ET\n",
        "\n",
        "import numpy as np\n",
        "import timeit"
      ],
      "metadata": {
        "id": "FVD0vP-nIkna"
      },
      "execution_count": 55,
      "outputs": []
    },
    {
      "cell_type": "code",
      "source": [
        "import xml.etree.ElementTree as ET\n",
        "path = '/content/encrypted_machine_learning_on_Heart_Disease_Dataset-HDD-/data_new/invoices_new'\n",
        "files = os.listdir(path)\n",
        "print(len(files))"
      ],
      "metadata": {
        "colab": {
          "base_uri": "https://localhost:8080/"
        },
        "id": "fYR5fV7-zRnI",
        "outputId": "a6fdbaf4-c64e-411c-b652-12fa6b90014a"
      },
      "execution_count": 56,
      "outputs": [
        {
          "output_type": "stream",
          "name": "stdout",
          "text": [
            "34\n"
          ]
        }
      ]
    },
    {
      "cell_type": "code",
      "source": [
        "# from sklearn import tree\n",
        "# root = ET.getroot()\n",
        "# print(root.tag, root.attrib)\n",
        "# for child in root:\n",
        "#   print(child.tag, child.attrib)"
      ],
      "metadata": {
        "id": "FkmFvKy2zumz"
      },
      "execution_count": 57,
      "outputs": []
    },
    {
      "cell_type": "code",
      "source": [
        "# print(ET.tostring(root, encoding='utf16').decode('utf16'))"
      ],
      "metadata": {
        "id": "2Rr-IdHPzxpp"
      },
      "execution_count": 58,
      "outputs": []
    },
    {
      "cell_type": "code",
      "source": [
        "# print(ET.tostring(root, encoding='utf8').decode('utf8'))"
      ],
      "metadata": {
        "id": "TGDSsNx9zxiq"
      },
      "execution_count": 59,
      "outputs": []
    },
    {
      "cell_type": "code",
      "source": [
        "DATA_DIR='/content/encrypted_machine_learning_on_Heart_Disease_Dataset-HDD-/data_new/invoices_new'\n",
        "\n",
        "matrix           = list() # rows = [ rfc, pref dict id->count ]\n",
        "Enc_Packets          = dict() # rfc -> [ row in matrix, name ]\n",
        "clients_by_row   = list() # row -> [ rfc, name ]\n",
        "Systems         = dict() # id -> [ col in matrix, name ]\n",
        "products_by_col  = list() # col -> [ id, name ]\n",
        "\n",
        "for invoice in os.listdir(DATA_DIR):\n",
        "    if '.xml' not in invoice:\n",
        "        continue\n",
        "    tree = ET.parse(os.path.join(DATA_DIR, invoice))\n",
        "    root = tree.getroot()\n",
        "    texture_se = root[0]\n",
        "    _id=root[1]\n",
        "    if texture_se not in Enc_Packets:\n",
        "        # new row\n",
        "        # FOR PRESENTATION\n",
        "        # if len(matrix) > 400:\n",
        "        #  break\n",
        "        Enc_Packets[texture_se] = [ len(matrix), root[1] ]  #.attrib['radius_mean']\n",
        "        matrix.append( [ texture_se, dict() ] )\n",
        "        clients_by_row.append( [ (texture_se), root[2] ] )  #.attrib['radius_mean']\n",
        "    row = Enc_Packets[texture_se][0]\n",
        "\n",
        "    for concept in root[2]:\n",
        "        _id = concept.attrib['radius_mean']\n",
        "        name = concept.attrib['symmetry_mean']\n",
        "\n",
        "        if _id not in Systems:\n",
        "            # new col\n",
        "            Systems[_id] = [ len(Systems), root[1] ]\n",
        "            products_by_col.append( [ _id, root[0] ])\n",
        "        col = Systems[_id][0]\n",
        "        matrix[row][1][col] = matrix[row][1].get(col, 0) + 1\n",
        "\n",
        "print(\"Loaded \", len(Enc_Packets), \" Encrypted Packets \")"
      ],
      "metadata": {
        "colab": {
          "base_uri": "https://localhost:8080/"
        },
        "id": "0ll5r1iMIosi",
        "outputId": "83cff05b-b9af-49b4-a64d-e7b3826e5bd8"
      },
      "execution_count": 60,
      "outputs": [
        {
          "output_type": "stream",
          "name": "stdout",
          "text": [
            "Loaded  32  Encrypted Packets \n"
          ]
        }
      ]
    },
    {
      "cell_type": "code",
      "source": [
        "import csv\n",
        "m = np.zeros((len(Enc_Packets), len(Systems)))\n",
        "\n",
        "for r in range(len(matrix)):\n",
        "    for c, v in matrix[r][1].items():\n",
        "        m[r][c] = v\n",
        "\n",
        "random.seed(21656456)\n",
        "\n",
        "chosen = random.choice(list(Enc_Packets.keys()))\n",
        "chosen_row = Enc_Packets[chosen][0]\n",
        "#chosen = list(clients.keys())[67]\n",
        "print(\"Recommendations for\", chosen, Enc_Packets[chosen][1])\n",
        "\n",
        "products_for_client = list(matrix[Enc_Packets[chosen][0]][1].items())\n",
        "random.shuffle(products_for_client)\n",
        "print(\"Sample from\", len(products_for_client),\"Decryption halted\")\n",
        "for pair in products_for_client[:20]:\n",
        "    print(\"\\t\", products_by_col[pair[0]][1], 'Decrypted', pair[1], 'times')\n",
        "\n",
        "# similarity to each client using raw inner product as we cannot take sqrt\n",
        "\n",
        "client_simil = np.ndarray((len(Enc_Packets),1))\n",
        "\n",
        "minus_row = -1 * m[chosen_row]\n",
        "\n",
        "for idx in range(len(Enc_Packets)):\n",
        "    #client_simil[idx] = math.sqrt(np.dot(m[idx], m[chosen_row]))\n",
        "    diff = m[idx] + minus_row\n",
        "    client_simil[idx] = np.sum(diff*diff)\n",
        "\n",
        "print(\"Top De-similarities:\")\n",
        "print(client_simil[:10])\n",
        "\n",
        "recos = np.zeros((len(Systems),))\n",
        "\n",
        "for idx in range(len(Enc_Packets)):\n",
        "    weight = client_simil[idx]\n",
        "    row = m[idx][:]\n",
        "    recos = recos + row * weight\n",
        "    #if idx % 100 == 0:\n",
        "    #  print(\"{} {:,} {:,} {:,}\".format(idx, recos[0], recos[idx], recos[8200]))\n",
        "\n",
        "recos_indexed = sorted(list(map(lambda p: [ p[1], p[0] ], enumerate(recos))))\n",
        "\n",
        "printed = 0\n",
        "for score, col in reversed(recos_indexed):\n",
        "    if m[chosen_row][col] > 0:\n",
        "        continue\n",
        "    print(\"\\t({}) {} score={:,}\".format(col, products_by_col[col][1], score))\n",
        "    printed += 1\n",
        "    if printed > 10:\n",
        "        break\n",
        "old_recos = recos\n",
        "old_recos_indexed = recos_indexed"
      ],
      "metadata": {
        "colab": {
          "base_uri": "https://localhost:8080/"
        },
        "id": "oEDeTAyEIsYi",
        "outputId": "8c111d37-2cb1-4bb6-d5f7-5a65ca0e3f7c"
      },
      "execution_count": 61,
      "outputs": [
        {
          "output_type": "stream",
          "name": "stdout",
          "text": [
            "Recommendations for <Element 'row' at 0x7f1c78eb7650> <Element 'row' at 0x7f1c78eb76b0>\n",
            "Sample from 0 Decryption halted\n",
            "Top De-similarities:\n",
            "[[0.]\n",
            " [0.]\n",
            " [0.]\n",
            " [0.]\n",
            " [0.]\n",
            " [0.]\n",
            " [0.]\n",
            " [0.]\n",
            " [0.]\n",
            " [0.]]\n"
          ]
        }
      ]
    },
    {
      "cell_type": "code",
      "source": [
        "def next_power_of_2(x):\n",
        "    return 1 if x == 0 else 2**(x - 1).bit_length()\n",
        "\n",
        "# CKKS related parameters\n",
        "# min_depth=1\n",
        "max_depth=4\n",
        "scale_factor=30\n",
        "batch_size=next_power_of_2(max(len(Systems), len(Enc_Packets)) // 2 + 2)\n",
        "\n",
        "print(\"batch size:\", batch_size)\n",
        "\n",
        "print(\"Initializing ckks wrapper\")\n",
        "crypto=pycrypto.CKKSwrapper()\n",
        "print(\"Initialized wrapper\")\n",
        "\n",
        "print(\"Generating keys\")\n",
        "start_time = timeit.default_timer()\n",
        "crypto.KeyGen(max_depth, scale_factor, batch_size)\n",
        "print(\"Keys generated in\", timeit.default_timer() - start_time)\n",
        "\n",
        "print(\"Generating key Batches\")\n",
        "start_time = timeit.default_timer()\n",
        "crypto.KeyGen(max_depth, scale_factor, batch_size)\n",
        "print(\"Keys generated in\", timeit.default_timer() - start_time)\n",
        "\n",
        "print(\"Encrypting\")\n",
        "start_time = timeit.default_timer()\n",
        "m = list()\n",
        "\n",
        "for r in range(len(matrix)):\n",
        "    row = [ 0.0 for _ in range(len(Systems)) ]\n",
        "    for c, v in matrix[r][1].items():\n",
        "        row[c] =  v * 1.0\n",
        "    m.append( [ crypto.Encrypt( row[:batch_size] ), crypto.Encrypt( row[batch_size:] ) ] )\n",
        "\n",
        "print(\"Encrypted in\", timeit.default_timer() - start_time)\n",
        "\n",
        "random.seed(210826)\n",
        "\n",
        "# use chosen from before\n",
        "#chosen = random.choice(list(clients.keys()))\n",
        "#chosen_row = clients[chosen][0]\n",
        "\n",
        "# similarity to each client using raw inner product as we cannot take sqrt\n",
        "\n",
        "print(\"Negating row\")\n",
        "start_time = timeit.default_timer()\n",
        "minus_row = [ crypto.EvalMultConst(m[chosen_row][0], [ -1.0 for _ in range(batch_size) ]),\n",
        "              crypto.EvalMultConst(m[chosen_row][1], [ -1.0 for _ in range(len(Systems) - batch_size) ]) ]\n",
        "print(\"Minus row in\", timeit.default_timer() - start_time)\n",
        "\n",
        "print(\"Asserting row\")\n",
        "start_time = timeit.default_timer()\n",
        "minus_row = [ crypto.EvalMultConst(m[chosen_row][0], [ -1.0 for _ in range(batch_size) ]),\n",
        "              crypto.EvalMultConst(m[chosen_row][1], [ -1.0 for _ in range(len(Systems) - batch_size) ]) ]\n",
        "print(\"Plus row in\", timeit.default_timer() + start_time)"
      ],
      "metadata": {
        "colab": {
          "base_uri": "https://localhost:8080/"
        },
        "id": "vkeUQiIiIv9K",
        "outputId": "8e82dbb4-410e-4651-a395-7a5b956935fd"
      },
      "execution_count": 62,
      "outputs": [
        {
          "output_type": "stream",
          "name": "stdout",
          "text": [
            "batch size: 32\n",
            "Initializing ckks wrapper\n",
            "Initialized wrapper\n",
            "Generating keys\n",
            "Keys generated in 0.678057611999975\n",
            "Generating key Batches\n",
            "Keys generated in 0.6669906560000527\n",
            "Encrypting\n",
            "Encrypted in 1.4016836050000165\n",
            "Negating row\n",
            "Minus row in 0.01093980299992836\n",
            "Asserting row\n",
            "Plus row in 4065.54251371\n"
          ]
        }
      ]
    },
    {
      "cell_type": "code",
      "source": [],
      "metadata": {
        "id": "s0A2BS6KTPpK"
      },
      "execution_count": 62,
      "outputs": []
    }
  ]
}